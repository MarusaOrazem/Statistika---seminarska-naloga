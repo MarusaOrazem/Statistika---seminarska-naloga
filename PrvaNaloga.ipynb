{
 "cells": [
  {
   "cell_type": "code",
   "execution_count": 79,
   "metadata": {},
   "outputs": [],
   "source": [
    "import pandas as pd\n",
    "import random as rd\n",
    "import numpy as np\n",
    "import math\n",
    "from scipy import stats\n",
    "\n",
    "kibergrad = pd.read_csv(r\"C:\\Kibergrad.csv\")"
   ]
  },
  {
   "cell_type": "markdown",
   "metadata": {
    "collapsed": true
   },
   "source": [
    "a) ENOSTAVNO SLUČAJNO VZORČENJE"
   ]
  },
  {
   "cell_type": "code",
   "execution_count": 94,
   "metadata": {},
   "outputs": [
    {
     "name": "stdout",
     "output_type": "stream",
     "text": [
      "Ocena povprečnega dohodka v Kibergradu, glede na enostavno slučajno vzorčenje je 42942.15\n",
      "Standardna napaka: 1593.0009644380311 \n",
      "Interval zaupanja: [39819.86810970146,46064.43189029854]\n"
     ]
    }
   ],
   "source": [
    "vzorec = kibergrad[\"'DOHODEK'\"].sample(400)\n",
    "povprecje =vzorec.mean()\n",
    "se = vzorec.sem()\n",
    "\n",
    "print(\"Ocena povprečnega dohodka v Kibergradu, glede na enostavno slučajno vzorčenje je {}\".format(povprecje))\n",
    "print(\"Standardna napaka: {} \".format(se))\n",
    "print(\"Interval zaupanja: [{},{}]\".format(povprecje - 1.96*se, povprecje + 1.96*se))"
   ]
  },
  {
   "cell_type": "markdown",
   "metadata": {},
   "source": [
    "b) STRATIFICIRANO VZORČENJE"
   ]
  },
  {
   "cell_type": "code",
   "execution_count": 95,
   "metadata": {},
   "outputs": [],
   "source": [
    "N = 43886\n",
    "N1 = 10149\n",
    "N2 = 10390\n",
    "N3 = 13457\n",
    "N4 = 9890\n",
    "n1 = 92\n",
    "n2 = 95\n",
    "n3 = 123\n",
    "n4 = 90\n",
    "\n",
    "w1 = N1/N\n",
    "w2 = N2/N\n",
    "w3 = N3/N\n",
    "w4 = N4/N\n",
    "\n",
    "cetrt1 = kibergrad[:N1][\"'DOHODEK'\"]\n",
    "cetrt2 = kibergrad[N1:N1+N2][\"'DOHODEK'\"]\n",
    "cetrt3 = kibergrad[N1+N2:N1+N2+N3][\"'DOHODEK'\"]\n",
    "cetrt4 = kibergrad[N1+N2+N3:][\"'DOHODEK'\"]"
   ]
  },
  {
   "cell_type": "code",
   "execution_count": 109,
   "metadata": {},
   "outputs": [
    {
     "name": "stdout",
     "output_type": "stream",
     "text": [
      "Ocena povprečja dohodka, če stratificiramo: 40886.89410253846\n",
      "Standarna napaka, če stratificiramo: 15619.58379421788 \n"
     ]
    }
   ],
   "source": [
    "vzorec1 = cetrt1.sample(n1)\n",
    "vzorec2 = cetrt2.sample(n2)\n",
    "vzorec3 = cetrt3.sample(n3)\n",
    "vzorec4 = cetrt4.sample(n4)\n",
    "\n",
    "p1 = vzorec1.mean()\n",
    "p2 = vzorec2.mean()\n",
    "p3 = vzorec3.mean()\n",
    "p4 = vzorec4.mean()\n",
    "\n",
    "strat_povprecje = w1*p1 + w2*p2 + w3*p3 + w4*p4\n",
    "print(\"Ocena povprečja dohodka, če stratificiramo: {}\".format(strat_povprecje))\n",
    "\n",
    "var1 = vzorec1.var()\n",
    "var2 = vzorec2.var()\n",
    "var3 = vzorec3.var()\n",
    "var4 = vzorec4.var()\n",
    "\n",
    "strat_se = var1*w1**2 + var2*w2**2 + var3*w3**2 + var4*w4**2\n",
    "print(\"Standarna napaka, če stratificiramo: {} \".format(math.sqrt(strat_se)))"
   ]
  },
  {
   "cell_type": "markdown",
   "metadata": {},
   "source": [
    "c) VARIANCE ZNOTRAJ IN MED"
   ]
  },
  {
   "cell_type": "code",
   "execution_count": 110,
   "metadata": {},
   "outputs": [
    {
     "name": "stdout",
     "output_type": "stream",
     "text": [
      "Variance v četrtih: \n",
      " Prva: 1207934484.6014097, \n",
      " Druga: 647823289.4396416, \n",
      " Tretja: 962434398.3292009, \n",
      " Četrta: 1035070492.6067415\n"
     ]
    }
   ],
   "source": [
    "print(\"Variance v četrtih: \\n Prva: {}, \\n Druga: {}, \\n Tretja: {}, \\n Četrta: {}\".format(var1, var2, var3, var4))"
   ]
  },
  {
   "cell_type": "code",
   "execution_count": 111,
   "metadata": {},
   "outputs": [
    {
     "name": "stdout",
     "output_type": "stream",
     "text": [
      "Varianca med četrtmi 2162215.4374019047\n"
     ]
    }
   ],
   "source": [
    "print(\"Varianca med četrtmi {}\".format(np.array([p1*w1, p2*w2, p3*w3, p4*w4]).var()))"
   ]
  },
  {
   "cell_type": "code",
   "execution_count": null,
   "metadata": {
    "collapsed": true
   },
   "outputs": [],
   "source": []
  }
 ],
 "metadata": {
  "kernelspec": {
   "display_name": "Python 3",
   "language": "python",
   "name": "python3"
  },
  "language_info": {
   "codemirror_mode": {
    "name": "ipython",
    "version": 3
   },
   "file_extension": ".py",
   "mimetype": "text/x-python",
   "name": "python",
   "nbconvert_exporter": "python",
   "pygments_lexer": "ipython3",
   "version": "3.6.3"
  }
 },
 "nbformat": 4,
 "nbformat_minor": 2
}
